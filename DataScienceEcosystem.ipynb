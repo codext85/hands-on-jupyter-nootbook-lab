{
 "cells": [
  {
   "cell_type": "markdown",
   "id": "d9e957c7-26f5-4458-8611-76219d84b8ec",
   "metadata": {},
   "source": [
    "# H1 Data Science Tools and Ecosystem"
   ]
  },
  {
   "cell_type": "markdown",
   "id": "31eb03a2-f15d-40d2-973e-ae9aa1f76349",
   "metadata": {},
   "source": [
    "In this notebook, Data Science Tools and Ecosystem are summarized."
   ]
  },
  {
   "cell_type": "markdown",
   "id": "fa838e43-069e-43dc-938d-29775da8b333",
   "metadata": {},
   "source": [
    "Some of the popular languages that Data Scientists use are:\n",
    "1. Python\n",
    "2. Julia\n",
    "3. R\n",
    "4. SAS\n",
    "5. Matlab"
   ]
  },
  {
   "cell_type": "markdown",
   "id": "0f73cc64-1923-49e3-985b-0c7ce03a3e94",
   "metadata": {},
   "source": [
    "**Objectives**:\n",
    "- List popular languages for Data Science\n",
    "- some commonly used libraries in data sceince\n",
    "- some arithmetic expressions \n"
   ]
  },
  {
   "cell_type": "markdown",
   "id": "9f114048-29ec-4ff6-94c2-1fcaec8b2dd3",
   "metadata": {},
   "source": [
    "Some of the commonly used libraries used by Data Scientists include:\n",
    "1. Numpy\n",
    "2. Pandas\n",
    "3. Matplotlib"
   ]
  },
  {
   "cell_type": "markdown",
   "id": "4da4ab75-59d3-4ba5-bd4d-efc4159818a3",
   "metadata": {},
   "source": [
    "| Data science tools |\n",
    "|--------------------|\n",
    "|--Jupyter nootbook--|\n",
    "|--R Studio----------|\n",
    "|--Appache Zepplin---|"
   ]
  },
  {
   "cell_type": "markdown",
   "id": "2c286ceb-af54-4b12-9eb6-264ff10f3b75",
   "metadata": {},
   "source": [
    "|Data Science Tools |\n",
    "|-------------------|\n",
    "|Jupyter nootbook   |\n",
    "|R Studio           |\n",
    "|Appache Zeppline   |"
   ]
  },
  {
   "cell_type": "markdown",
   "id": "a7593155-63f4-49aa-99d3-5d91403748b0",
   "metadata": {},
   "source": [
    "### H3 Below are a few examples of evaluating arithmetic expressions in Python\n",
    "2+3"
   ]
  },
  {
   "cell_type": "markdown",
   "id": "515a888f-d7f5-460f-b74d-ff8b2972a36a",
   "metadata": {},
   "source": [
    "### Below are a few examples of evaluating arithmetic expressions in Python\n",
    "1. Addition'2+3'\n",
    "2. subtraction '3-1'\n",
    "3. multiply '2*3'\n",
    "4. division '4/2'\n"
   ]
  },
  {
   "cell_type": "code",
   "execution_count": 1,
   "id": "c72f49ff-9964-413c-a719-e659fea339e9",
   "metadata": {
    "tags": []
   },
   "outputs": [
    {
     "name": "stdout",
     "output_type": "stream",
     "text": [
      "17\n"
     ]
    }
   ],
   "source": [
    "# This a simple arithmetic expression to mutiply then add integers\n",
    "print((3*4)+5)"
   ]
  },
  {
   "cell_type": "code",
   "execution_count": 2,
   "id": "31b53164-a7c6-4091-8993-0da7e4398242",
   "metadata": {
    "tags": []
   },
   "outputs": [
    {
     "name": "stdout",
     "output_type": "stream",
     "text": [
      "3.3333333333333335\n"
     ]
    }
   ],
   "source": [
    "# This will convert 200 minutes to hours by diving by 60\n",
    "minutes = 200\n",
    "hours = minutes/60\n",
    "print(hours)"
   ]
  },
  {
   "cell_type": "markdown",
   "id": "02f6dd1f-309c-4c7e-bae9-a4c5550829ee",
   "metadata": {},
   "source": [
    "## Author\n",
    "         Ahmar"
   ]
  },
  {
   "cell_type": "code",
   "execution_count": null,
   "id": "421a1d85-9a33-4654-838a-4a55867132b9",
   "metadata": {},
   "outputs": [],
   "source": []
  }
 ],
 "metadata": {
  "kernelspec": {
   "display_name": "Python",
   "language": "python",
   "name": "conda-env-python-py"
  },
  "language_info": {
   "codemirror_mode": {
    "name": "ipython",
    "version": 3
   },
   "file_extension": ".py",
   "mimetype": "text/x-python",
   "name": "python",
   "nbconvert_exporter": "python",
   "pygments_lexer": "ipython3",
   "version": "3.7.12"
  }
 },
 "nbformat": 4,
 "nbformat_minor": 5
}
